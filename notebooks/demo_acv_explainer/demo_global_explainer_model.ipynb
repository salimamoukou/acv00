{
 "cells": [
  {
   "cell_type": "code",
   "execution_count": 1,
   "id": "tribal-browser",
   "metadata": {},
   "outputs": [],
   "source": [
    "import pandas as pd\n",
    "import numpy as np\n",
    "\n",
    "from sklearn.datasets import load_breast_cancer\n",
    "from sklearn.model_selection import train_test_split"
   ]
  },
  {
   "cell_type": "code",
   "execution_count": 2,
   "id": "german-crime",
   "metadata": {},
   "outputs": [],
   "source": [
    "seed = 2022\n",
    "\n",
    "X, y = load_breast_cancer(return_X_y=True, as_frame=True)\n",
    "X_train, X_test, y_train, y_test = train_test_split(X, y, test_size=0.20, random_state=seed)"
   ]
  },
  {
   "cell_type": "code",
   "execution_count": 3,
   "id": "invisible-dancing",
   "metadata": {},
   "outputs": [
    {
     "data": {
      "text/html": [
       "<div>\n",
       "<style scoped>\n",
       "    .dataframe tbody tr th:only-of-type {\n",
       "        vertical-align: middle;\n",
       "    }\n",
       "\n",
       "    .dataframe tbody tr th {\n",
       "        vertical-align: top;\n",
       "    }\n",
       "\n",
       "    .dataframe thead th {\n",
       "        text-align: right;\n",
       "    }\n",
       "</style>\n",
       "<table border=\"1\" class=\"dataframe\">\n",
       "  <thead>\n",
       "    <tr style=\"text-align: right;\">\n",
       "      <th></th>\n",
       "      <th>mean radius</th>\n",
       "      <th>mean texture</th>\n",
       "      <th>mean perimeter</th>\n",
       "      <th>mean area</th>\n",
       "      <th>mean smoothness</th>\n",
       "      <th>mean compactness</th>\n",
       "      <th>mean concavity</th>\n",
       "      <th>mean concave points</th>\n",
       "      <th>mean symmetry</th>\n",
       "      <th>mean fractal dimension</th>\n",
       "      <th>...</th>\n",
       "      <th>worst radius</th>\n",
       "      <th>worst texture</th>\n",
       "      <th>worst perimeter</th>\n",
       "      <th>worst area</th>\n",
       "      <th>worst smoothness</th>\n",
       "      <th>worst compactness</th>\n",
       "      <th>worst concavity</th>\n",
       "      <th>worst concave points</th>\n",
       "      <th>worst symmetry</th>\n",
       "      <th>worst fractal dimension</th>\n",
       "    </tr>\n",
       "  </thead>\n",
       "  <tbody>\n",
       "    <tr>\n",
       "      <th>0</th>\n",
       "      <td>17.99</td>\n",
       "      <td>10.38</td>\n",
       "      <td>122.80</td>\n",
       "      <td>1001.0</td>\n",
       "      <td>0.11840</td>\n",
       "      <td>0.27760</td>\n",
       "      <td>0.3001</td>\n",
       "      <td>0.14710</td>\n",
       "      <td>0.2419</td>\n",
       "      <td>0.07871</td>\n",
       "      <td>...</td>\n",
       "      <td>25.38</td>\n",
       "      <td>17.33</td>\n",
       "      <td>184.60</td>\n",
       "      <td>2019.0</td>\n",
       "      <td>0.1622</td>\n",
       "      <td>0.6656</td>\n",
       "      <td>0.7119</td>\n",
       "      <td>0.2654</td>\n",
       "      <td>0.4601</td>\n",
       "      <td>0.11890</td>\n",
       "    </tr>\n",
       "    <tr>\n",
       "      <th>1</th>\n",
       "      <td>20.57</td>\n",
       "      <td>17.77</td>\n",
       "      <td>132.90</td>\n",
       "      <td>1326.0</td>\n",
       "      <td>0.08474</td>\n",
       "      <td>0.07864</td>\n",
       "      <td>0.0869</td>\n",
       "      <td>0.07017</td>\n",
       "      <td>0.1812</td>\n",
       "      <td>0.05667</td>\n",
       "      <td>...</td>\n",
       "      <td>24.99</td>\n",
       "      <td>23.41</td>\n",
       "      <td>158.80</td>\n",
       "      <td>1956.0</td>\n",
       "      <td>0.1238</td>\n",
       "      <td>0.1866</td>\n",
       "      <td>0.2416</td>\n",
       "      <td>0.1860</td>\n",
       "      <td>0.2750</td>\n",
       "      <td>0.08902</td>\n",
       "    </tr>\n",
       "    <tr>\n",
       "      <th>2</th>\n",
       "      <td>19.69</td>\n",
       "      <td>21.25</td>\n",
       "      <td>130.00</td>\n",
       "      <td>1203.0</td>\n",
       "      <td>0.10960</td>\n",
       "      <td>0.15990</td>\n",
       "      <td>0.1974</td>\n",
       "      <td>0.12790</td>\n",
       "      <td>0.2069</td>\n",
       "      <td>0.05999</td>\n",
       "      <td>...</td>\n",
       "      <td>23.57</td>\n",
       "      <td>25.53</td>\n",
       "      <td>152.50</td>\n",
       "      <td>1709.0</td>\n",
       "      <td>0.1444</td>\n",
       "      <td>0.4245</td>\n",
       "      <td>0.4504</td>\n",
       "      <td>0.2430</td>\n",
       "      <td>0.3613</td>\n",
       "      <td>0.08758</td>\n",
       "    </tr>\n",
       "    <tr>\n",
       "      <th>3</th>\n",
       "      <td>11.42</td>\n",
       "      <td>20.38</td>\n",
       "      <td>77.58</td>\n",
       "      <td>386.1</td>\n",
       "      <td>0.14250</td>\n",
       "      <td>0.28390</td>\n",
       "      <td>0.2414</td>\n",
       "      <td>0.10520</td>\n",
       "      <td>0.2597</td>\n",
       "      <td>0.09744</td>\n",
       "      <td>...</td>\n",
       "      <td>14.91</td>\n",
       "      <td>26.50</td>\n",
       "      <td>98.87</td>\n",
       "      <td>567.7</td>\n",
       "      <td>0.2098</td>\n",
       "      <td>0.8663</td>\n",
       "      <td>0.6869</td>\n",
       "      <td>0.2575</td>\n",
       "      <td>0.6638</td>\n",
       "      <td>0.17300</td>\n",
       "    </tr>\n",
       "    <tr>\n",
       "      <th>4</th>\n",
       "      <td>20.29</td>\n",
       "      <td>14.34</td>\n",
       "      <td>135.10</td>\n",
       "      <td>1297.0</td>\n",
       "      <td>0.10030</td>\n",
       "      <td>0.13280</td>\n",
       "      <td>0.1980</td>\n",
       "      <td>0.10430</td>\n",
       "      <td>0.1809</td>\n",
       "      <td>0.05883</td>\n",
       "      <td>...</td>\n",
       "      <td>22.54</td>\n",
       "      <td>16.67</td>\n",
       "      <td>152.20</td>\n",
       "      <td>1575.0</td>\n",
       "      <td>0.1374</td>\n",
       "      <td>0.2050</td>\n",
       "      <td>0.4000</td>\n",
       "      <td>0.1625</td>\n",
       "      <td>0.2364</td>\n",
       "      <td>0.07678</td>\n",
       "    </tr>\n",
       "  </tbody>\n",
       "</table>\n",
       "<p>5 rows × 30 columns</p>\n",
       "</div>"
      ],
      "text/plain": [
       "   mean radius  mean texture  mean perimeter  mean area  mean smoothness  \\\n",
       "0        17.99         10.38          122.80     1001.0          0.11840   \n",
       "1        20.57         17.77          132.90     1326.0          0.08474   \n",
       "2        19.69         21.25          130.00     1203.0          0.10960   \n",
       "3        11.42         20.38           77.58      386.1          0.14250   \n",
       "4        20.29         14.34          135.10     1297.0          0.10030   \n",
       "\n",
       "   mean compactness  mean concavity  mean concave points  mean symmetry  \\\n",
       "0           0.27760          0.3001              0.14710         0.2419   \n",
       "1           0.07864          0.0869              0.07017         0.1812   \n",
       "2           0.15990          0.1974              0.12790         0.2069   \n",
       "3           0.28390          0.2414              0.10520         0.2597   \n",
       "4           0.13280          0.1980              0.10430         0.1809   \n",
       "\n",
       "   mean fractal dimension  ...  worst radius  worst texture  worst perimeter  \\\n",
       "0                 0.07871  ...         25.38          17.33           184.60   \n",
       "1                 0.05667  ...         24.99          23.41           158.80   \n",
       "2                 0.05999  ...         23.57          25.53           152.50   \n",
       "3                 0.09744  ...         14.91          26.50            98.87   \n",
       "4                 0.05883  ...         22.54          16.67           152.20   \n",
       "\n",
       "   worst area  worst smoothness  worst compactness  worst concavity  \\\n",
       "0      2019.0            0.1622             0.6656           0.7119   \n",
       "1      1956.0            0.1238             0.1866           0.2416   \n",
       "2      1709.0            0.1444             0.4245           0.4504   \n",
       "3       567.7            0.2098             0.8663           0.6869   \n",
       "4      1575.0            0.1374             0.2050           0.4000   \n",
       "\n",
       "   worst concave points  worst symmetry  worst fractal dimension  \n",
       "0                0.2654          0.4601                  0.11890  \n",
       "1                0.1860          0.2750                  0.08902  \n",
       "2                0.2430          0.3613                  0.08758  \n",
       "3                0.2575          0.6638                  0.17300  \n",
       "4                0.1625          0.2364                  0.07678  \n",
       "\n",
       "[5 rows x 30 columns]"
      ]
     },
     "execution_count": 3,
     "metadata": {},
     "output_type": "execute_result"
    }
   ],
   "source": [
    "X.head()"
   ]
  },
  {
   "cell_type": "code",
   "execution_count": 4,
   "id": "conventional-response",
   "metadata": {},
   "outputs": [
    {
     "data": {
      "text/plain": [
       "(455, 30)"
      ]
     },
     "execution_count": 4,
     "metadata": {},
     "output_type": "execute_result"
    }
   ],
   "source": [
    "X_train.shape"
   ]
  },
  {
   "cell_type": "markdown",
   "id": "04c7e796",
   "metadata": {},
   "source": [
    "# Fit Global Sufficient Rules"
   ]
  },
  {
   "cell_type": "code",
   "execution_count": 5,
   "id": "sustainable-giant",
   "metadata": {},
   "outputs": [],
   "source": [
    "from acv_explainers import ACXplainer\n",
    "from sklearn.metrics import roc_auc_score, accuracy_score\n",
    "\n",
    "# It has the same params as a Random Forest, and it should be tuned to maximize the performance.  \n",
    "acv_xplainer = ACXplainer(classifier=True, n_estimators=18, max_depth=15)\n",
    "acv_xplainer.fit(X_train, y_train)"
   ]
  },
  {
   "cell_type": "code",
   "execution_count": 6,
   "id": "concerned-contact",
   "metadata": {},
   "outputs": [
    {
     "data": {
      "text/plain": [
       "0.9649122807017544"
      ]
     },
     "execution_count": 6,
     "metadata": {},
     "output_type": "execute_result"
    }
   ],
   "source": [
    "accuracy_score(y_test, acv_xplainer.predict(X_test))"
   ]
  },
  {
   "cell_type": "markdown",
   "id": "addressed-tradition",
   "metadata": {},
   "source": [
    "### 1- Compute Sufficient Explanations"
   ]
  },
  {
   "cell_type": "code",
   "execution_count": 7,
   "id": "political-google",
   "metadata": {},
   "outputs": [
    {
     "name": "stderr",
     "output_type": "stream",
     "text": [
      "100%|██████████████████████████████████████████| 18/18 [00:00<00:00, 569.44it/s]\n",
      "100%|███████████████████████████████████████████| 10/10 [00:19<00:00,  1.95s/it]\n"
     ]
    }
   ],
   "source": [
    "sdp_importance, sdp_index, size, sdp = acv_xplainer.importance_sdp_rf(X_train, y_train.astype(np.double),\n",
    "                                                                      X_train, y_train.astype(np.double), stop=False, \n",
    "                                                                      pi_level=0.9)"
   ]
  },
  {
   "cell_type": "code",
   "execution_count": 8,
   "id": "df519a7e",
   "metadata": {},
   "outputs": [],
   "source": [
    "from acv_explainers.utils import get_active_null_coalition_list\n",
    "\n",
    "S_star, N_star = get_active_null_coalition_list(sdp_index, size)"
   ]
  },
  {
   "cell_type": "markdown",
   "id": "88d27009",
   "metadata": {},
   "source": [
    "### 2- Compute Sufficient Rules"
   ]
  },
  {
   "cell_type": "code",
   "execution_count": 9,
   "id": "b114e94b",
   "metadata": {},
   "outputs": [
    {
     "name": "stderr",
     "output_type": "stream",
     "text": [
      "100%|█████████████████████████████████████████| 455/455 [00:33<00:00, 13.69it/s]\n"
     ]
    }
   ],
   "source": [
    "sdp, rules, sdp_all, rules_data, w = acv_xplainer.compute_sdp_maxrules(X_train, y_train.astype(np.double),\n",
    "                                                         X_train, y_train.astype(np.double), S_star, verbose=True)"
   ]
  },
  {
   "cell_type": "markdown",
   "id": "7ea0fc97",
   "metadata": {},
   "source": [
    "### 3- Compute Global Sufficient Rules (G-SR)"
   ]
  },
  {
   "cell_type": "code",
   "execution_count": 10,
   "id": "01799a11",
   "metadata": {},
   "outputs": [],
   "source": [
    "acv_xplainer.fit_global_rules(X_train, y_train, rules, S_star)"
   ]
  },
  {
   "cell_type": "markdown",
   "id": "inner-acrylic",
   "metadata": {},
   "source": [
    "#### Rules stats"
   ]
  },
  {
   "cell_type": "markdown",
   "id": "tracked-apple",
   "metadata": {},
   "source": [
    "- Number of rules"
   ]
  },
  {
   "cell_type": "code",
   "execution_count": 11,
   "id": "scenic-livestock",
   "metadata": {},
   "outputs": [
    {
     "data": {
      "text/plain": [
       "(93, 30, 2)"
      ]
     },
     "execution_count": 11,
     "metadata": {},
     "output_type": "execute_result"
    }
   ],
   "source": [
    "acv_xplainer.rules.shape"
   ]
  },
  {
   "cell_type": "markdown",
   "id": "hindu-agency",
   "metadata": {},
   "source": [
    "- Rules accuracy"
   ]
  },
  {
   "cell_type": "code",
   "execution_count": 12,
   "id": "female-vocabulary",
   "metadata": {},
   "outputs": [
    {
     "name": "stdout",
     "output_type": "stream",
     "text": [
      "[1.0, 0.9949494949494949, 0.9772727272727273, 1.0, 1.0, 1.0, 1.0, 1.0, 1.0, 1.0]\n"
     ]
    }
   ],
   "source": [
    "print(acv_xplainer.rules_acc[:10])"
   ]
  },
  {
   "cell_type": "markdown",
   "id": "violent-dollar",
   "metadata": {},
   "source": [
    "- Rules Coverage"
   ]
  },
  {
   "cell_type": "code",
   "execution_count": 13,
   "id": "average-scope",
   "metadata": {},
   "outputs": [
    {
     "name": "stdout",
     "output_type": "stream",
     "text": [
      "[0.12087912087912088, 0.4351648351648352, 0.0967032967032967, 0.006593406593406593, 0.002197802197802198, 0.004395604395604396, 0.2813186813186813, 0.14725274725274726, 0.07692307692307693, 0.3912087912087912]\n"
     ]
    }
   ],
   "source": [
    "print(acv_xplainer.rules_coverage[:10])"
   ]
  },
  {
   "cell_type": "markdown",
   "id": "spiritual-nursing",
   "metadata": {},
   "source": [
    "### Global model prediction "
   ]
  },
  {
   "cell_type": "code",
   "execution_count": 14,
   "id": "6c4bf784",
   "metadata": {},
   "outputs": [],
   "source": [
    "y_test_pred = acv_xplainer.predict_proba_global_rules(X_test.values, min_acc=0.9)"
   ]
  },
  {
   "cell_type": "markdown",
   "id": "b4767a90",
   "metadata": {},
   "source": [
    "### 4-  Compute the coverage and the precision of G-SR"
   ]
  },
  {
   "cell_type": "code",
   "execution_count": 15,
   "id": "4694656b",
   "metadata": {},
   "outputs": [
    {
     "name": "stdout",
     "output_type": "stream",
     "text": [
      "Accuracy = 0.9523809523809523 --- Test Coverage = 0.9210526315789473\n"
     ]
    }
   ],
   "source": [
    "y_o = []\n",
    "y_r = []\n",
    "for i, ya in enumerate(y_test_pred[0]):\n",
    "    if ya != None:\n",
    "        y_o.append(ya)\n",
    "        y_r.append(y_test.values[i])\n",
    "        \n",
    "y_o = np.array(y_o, dtype=int)\n",
    "\n",
    "print('Accuracy = {} --- Test Coverage = {}'.format(accuracy_score(y_r, y_o), len(y_r)/X_test.shape[0]))\n"
   ]
  },
  {
   "cell_type": "code",
   "execution_count": 19,
   "id": "satisfactory-preparation",
   "metadata": {},
   "outputs": [],
   "source": [
    "# # Test webApp\n",
    "\n",
    "# import acv_app\n",
    "# import os\n",
    "\n",
    "# # compile the ACXplainer\n",
    "# acv_app.compile_ACXplainers(acv_xplainer, X_train, y_train, X_test, y_test, path=os.getcwd())\n",
    "\n",
    "# # Launch the webApp\n",
    "# acv_app.run_webapp(pickle_path=os.getcwd())"
   ]
  },
  {
   "cell_type": "markdown",
   "id": "f31c5229",
   "metadata": {},
   "source": [
    "# Baseline models"
   ]
  },
  {
   "cell_type": "code",
   "execution_count": 19,
   "id": "complete-stock",
   "metadata": {},
   "outputs": [],
   "source": [
    "from imodels import BoostedRulesClassifier, BayesianRuleListClassifier, GreedyRuleListClassifier, SkopeRulesClassifier # see more models below\n",
    "from imodels import SLIMRegressor, RuleFitRegressor, RuleFitClassifier"
   ]
  },
  {
   "cell_type": "markdown",
   "id": "professional-exclusion",
   "metadata": {},
   "source": [
    "# Rule Fit"
   ]
  },
  {
   "cell_type": "code",
   "execution_count": 20,
   "id": "waiting-diamond",
   "metadata": {},
   "outputs": [
    {
     "data": {
      "text/plain": [
       "RuleFitClassifier()"
      ]
     },
     "execution_count": 20,
     "metadata": {},
     "output_type": "execute_result"
    }
   ],
   "source": [
    "rf = RuleFitClassifier()  # initialize a model\n",
    "rf.fit(X_train, y_train)  "
   ]
  },
  {
   "cell_type": "code",
   "execution_count": 21,
   "id": "artistic-aquarium",
   "metadata": {},
   "outputs": [
    {
     "data": {
      "text/plain": [
       "0.9473684210526315"
      ]
     },
     "execution_count": 21,
     "metadata": {},
     "output_type": "execute_result"
    }
   ],
   "source": [
    "accuracy_score(y_test, rf.predict(X_test))"
   ]
  },
  {
   "cell_type": "markdown",
   "id": "exotic-secondary",
   "metadata": {},
   "source": [
    "# Skoped Rule"
   ]
  },
  {
   "cell_type": "code",
   "execution_count": 26,
   "id": "rocky-quilt",
   "metadata": {},
   "outputs": [
    {
     "data": {
      "text/plain": [
       "0.9210526315789473"
      ]
     },
     "execution_count": 26,
     "metadata": {},
     "output_type": "execute_result"
    }
   ],
   "source": [
    "rf = SkopeRulesClassifier(n_estimators=100, precision_min=0.9)  # initialize a model\n",
    "rf.fit(X_train, y_train)  \n",
    "\n",
    "accuracy_score(y_test, rf.predict(X_test))"
   ]
  },
  {
   "cell_type": "markdown",
   "id": "annoying-premises",
   "metadata": {},
   "source": [
    "# Decision Tree"
   ]
  },
  {
   "cell_type": "code",
   "execution_count": 27,
   "id": "regulation-woman",
   "metadata": {},
   "outputs": [],
   "source": [
    "from sklearn.tree import DecisionTreeClassifier"
   ]
  },
  {
   "cell_type": "code",
   "execution_count": 28,
   "id": "cleared-coalition",
   "metadata": {},
   "outputs": [
    {
     "data": {
      "text/plain": [
       "0.9473684210526315"
      ]
     },
     "execution_count": 28,
     "metadata": {},
     "output_type": "execute_result"
    }
   ],
   "source": [
    "rf = DecisionTreeClassifier()  # initialize a model\n",
    "rf.fit(X_train, y_train)  \n",
    "\n",
    "accuracy_score(y_test, rf.predict(X_test))"
   ]
  },
  {
   "cell_type": "markdown",
   "id": "printable-confidentiality",
   "metadata": {},
   "source": [
    "# Random Forest"
   ]
  },
  {
   "cell_type": "code",
   "execution_count": 29,
   "id": "confused-architect",
   "metadata": {},
   "outputs": [],
   "source": [
    "from sklearn.ensemble import RandomForestClassifier"
   ]
  },
  {
   "cell_type": "code",
   "execution_count": 30,
   "id": "labeled-recruitment",
   "metadata": {},
   "outputs": [
    {
     "data": {
      "text/plain": [
       "0.9736842105263158"
      ]
     },
     "execution_count": 30,
     "metadata": {},
     "output_type": "execute_result"
    }
   ],
   "source": [
    "rf = RandomForestClassifier()  # initialize a model\n",
    "rf.fit(X_train, y_train)  \n",
    "\n",
    "accuracy_score(y_test, rf.predict(X_test))"
   ]
  },
  {
   "cell_type": "code",
   "execution_count": null,
   "id": "dada603f",
   "metadata": {},
   "outputs": [],
   "source": []
  }
 ],
 "metadata": {
  "kernelspec": {
   "display_name": "Python 3 (ipykernel)",
   "language": "python",
   "name": "python3"
  },
  "language_info": {
   "codemirror_mode": {
    "name": "ipython",
    "version": 3
   },
   "file_extension": ".py",
   "mimetype": "text/x-python",
   "name": "python",
   "nbconvert_exporter": "python",
   "pygments_lexer": "ipython3",
   "version": "3.8.12"
  }
 },
 "nbformat": 4,
 "nbformat_minor": 5
}
